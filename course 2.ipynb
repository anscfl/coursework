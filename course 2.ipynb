{
 "cells": [
  {
   "cell_type": "code",
   "execution_count": 1,
   "metadata": {},
   "outputs": [],
   "source": [
    "import numpy as np\n",
    "import math\n",
    "import matplotlib.pyplot as plt"
   ]
  },
  {
   "cell_type": "code",
   "execution_count": 2,
   "metadata": {},
   "outputs": [],
   "source": [
    "def golden_search(_a, _b, _gamma, _K):\n",
    "    epsilon = 0.001\n",
    "    phi = 0.5 * (1.0 + math.sqrt(5.0))\n",
    "    x1 = _b - ((_b - _a) / phi)\n",
    "    x2 = _a + ((_b - _a) / phi)\n",
    "    if(x1 != 1.0):\n",
    "        y1 = ((1.0 - x1) * (_gamma + x1 ** _K) / (1.0 - x1 ** (_K + 1.0)))\n",
    "    else:\n",
    "        y1 = (_gamma + 1.0) / (1.0 + _K)\n",
    "    if(x2 != 1.0):\n",
    "        y2 = ((1.0 - x2) * (_gamma + x2 ** _K) / (1.0 - x2 ** (_K + 1.0)))\n",
    "    else:\n",
    "        y2 = (_gamma + 1.0) / (1.0 + _K)\n",
    "    if(y1 >= y2):\n",
    "        _a = x1\n",
    "    else:\n",
    "        _b = x2\n",
    "    if(abs(_b - _a) < epsilon):\n",
    "        return (_a + _b) / 2\n",
    "    else:\n",
    "        return golden_search(_a, _b, _gamma, _K)"
   ]
  },
  {
   "cell_type": "code",
   "execution_count": 3,
   "metadata": {},
   "outputs": [],
   "source": [
    "def optimal_value(_gamma, _K):\n",
    "    if(_gamma > 0 and _gamma < 1.0):\n",
    "        a = (_gamma / _K) ** (1.0 / (_K - 1.0))\n",
    "        b = 1.0\n",
    "        return golden_search(a, b, _gamma, _K)\n",
    "    elif(_gamma > 1.0):\n",
    "        a = 1.0\n",
    "        b = ((_K + 1.0) * _gamma) ** (1.0 / (_K - 1))\n",
    "        return golden_search(a, b, _gamma, _K)\n",
    "    else:\n",
    "        return 1.0"
   ]
  },
  {
   "cell_type": "markdown",
   "metadata": {},
   "source": [
    "## Сравнение N относительно gamma"
   ]
  },
  {
   "cell_type": "code",
   "execution_count": 4,
   "metadata": {},
   "outputs": [
    {
     "name": "stdout",
     "output_type": "stream",
     "text": [
      "[0.1 0.2 0.3 0.4 0.5 0.6 0.7 0.8 0.9 1.  1.1 1.2 1.3 1.4 1.5 1.6 1.7 1.8\n",
      " 1.9 2.  2.1 2.2 2.3 2.4 2.5 2.6 2.7 2.8 2.9 3.  3.1 3.2 3.3 3.4 3.5 3.6\n",
      " 3.7 3.8 3.9 4.  4.1 4.2 4.3 4.4 4.5 4.6 4.7 4.8 4.9 5. ]\n",
      "[2. 3. 3. 4. 4. 4. 4. 5. 5. 5. 5. 5. 6. 6. 6. 6. 6. 6. 6. 7. 7. 7. 7. 7.\n",
      " 7. 7. 7. 7. 7. 8. 8. 8. 8. 8. 8. 8. 8. 8. 8. 8. 8. 8. 9. 9. 9. 9. 9. 9.\n",
      " 9. 9.]\n"
     ]
    },
    {
     "data": {
      "image/png": "[encoded data removed]",
      "text/plain": [
       "<Figure size 648x216 with 1 Axes>"
      ]
     },
     "metadata": {
      "needs_background": "light"
     },
     "output_type": "display_data"
    }
   ],
   "source": [
    "lambd = 1\n",
    "mu = 5\n",
    "N = 5\n",
    "gamma = np.linspace(0.1, 5)\n",
    "n = np.zeros((50,), dtype=float)\n",
    "rho = N * lambd / mu\n",
    "K = 5\n",
    "p0 = 0\n",
    "pk = 0\n",
    "C = np.zeros(50)\n",
    "if(rho == 1.0):\n",
    "    p0 = 1.0 / (K + 1.0)\n",
    "    pk = p0\n",
    "elif(rho > 0):\n",
    "    p0 = ((1.0) - rho) / (1.0 - rho ** (K + 2))\n",
    "    pk = ((1.0) - rho) / (1.0 - rho ** (K + 2)) * rho ** K\n",
    "for i in range(0, 50):\n",
    "    rho = optimal_value(gamma[i], K)\n",
    "    n1 = math.floor(rho * mu / lambd)\n",
    "    n2 = math.ceil(rho * mu / lambd)\n",
    "    C1 = 0\n",
    "    C2 = 0\n",
    "    if((n1 * lambd / mu) != 1.0):\n",
    "        C1 = (1.0 - (n1 * lambd / mu)) * (gamma[i] + (n1 * lambd / mu) ** K) / (1.0 - (n1 * lambd / mu) ** (K + 1.0))\n",
    "    else:\n",
    "        C1 = (gamma[i] + 1.0) / (1.0 + K)\n",
    "    if((n2 * lambd / mu) != 1.0):\n",
    "        C2 = (1.0 - (n2 * lambd / mu)) * (gamma[i] + (n2 * lambd / mu) ** K) / (1.0 - (n2 * lambd / mu) ** (K + 1.0))\n",
    "    else:\n",
    "        C2 = (gamma[i] + 1.0) / (1.0 + K)\n",
    "    if(C1 < C2):\n",
    "        n[i] = n1\n",
    "    else:\n",
    "        n[i] = n2\n",
    "        \n",
    "print(gamma)\n",
    "print(n)\n",
    "plt.figure(figsize=(9, 3))\n",
    "plt.plot(gamma, n)\n",
    "plt.grid(True)\n",
    "plt.show()"
   ]
  },
  {
   "cell_type": "markdown",
   "metadata": {},
   "source": [
    "## rho от К при gamma = 0.5"
   ]
  },
  {
   "cell_type": "code",
   "execution_count": 5,
   "metadata": {},
   "outputs": [
    {
     "name": "stdout",
     "output_type": "stream",
     "text": [
      "[ 2.  3.  4.  5.  6.  7.  8.  9. 10. 11. 12. 13. 14. 15. 16. 17. 18. 19.\n",
      " 20.]\n",
      "[0.36596633 0.59937953 0.70964347 0.77295417 0.8135026  0.84211141\n",
      " 0.86287225 0.87877565 0.89141476 0.90183741 0.91036827 0.91728173\n",
      " 0.92361138 0.92888696 0.9334136  0.9375753  0.94097307 0.94409231\n",
      " 0.94717753]\n"
     ]
    },
    {
     "data": {
      "image/png": "[encoded data removed]",
      "text/plain": [
       "<Figure size 648x216 with 1 Axes>"
      ]
     },
     "metadata": {
      "needs_background": "light"
     },
     "output_type": "display_data"
    }
   ],
   "source": [
    "lambd = 1\n",
    "mu = 5\n",
    "gamma = 0.5\n",
    "K = np.linspace(2, 20, 19)\n",
    "rho = np.zeros(19)\n",
    "for i in range(0, 19):\n",
    "    rho[i] = optimal_value(gamma, K[i])\n",
    "print(K)\n",
    "print(rho)\n",
    "plt.figure(figsize=(9, 3))\n",
    "plt.plot(K, rho)\n",
    "plt.grid(True)\n",
    "plt.show()"
   ]
  },
  {
   "cell_type": "markdown",
   "metadata": {},
   "source": [
    "## rho от К при gamma = 2"
   ]
  },
  {
   "cell_type": "code",
   "execution_count": 6,
   "metadata": {},
   "outputs": [
    {
     "name": "stdout",
     "output_type": "stream",
     "text": [
      "[ 2.  3.  4.  5.  6.  7.  8.  9. 10. 11. 12. 13. 14. 15. 16. 17. 18. 19.\n",
      " 20.]\n",
      "[2.73212226 1.66773827 1.40878759 1.29362631 1.22906297 1.18763561\n",
      " 1.15895359 1.13807786 1.12173066 1.10880445 1.09852674 1.0902954\n",
      " 1.0828621  1.07641877 1.07127993 1.06673758 1.0629722  1.05932461\n",
      " 1.05602913]\n"
     ]
    },
    {
     "data": {
      "image/png": "[encoded data removed]",
      "text/plain": [
       "<Figure size 648x216 with 1 Axes>"
      ]
     },
     "metadata": {
      "needs_background": "light"
     },
     "output_type": "display_data"
    }
   ],
   "source": [
    "lambd = 1\n",
    "mu = 5\n",
    "gamma = 2\n",
    "K = np.linspace(2, 20, 19)\n",
    "rho = np.zeros(19)\n",
    "for i in range(0, 19):\n",
    "    rho[i] = optimal_value(gamma, K[i])\n",
    "print(K)\n",
    "print(rho)\n",
    "plt.figure(figsize=(9, 3))\n",
    "plt.plot(K, rho)\n",
    "plt.grid(True)\n",
    "plt.show()"
   ]
  },
  {
   "cell_type": "markdown",
   "metadata": {},
   "source": [
    "## N относительно K при gamma = 0.5"
   ]
  },
  {
   "cell_type": "code",
   "execution_count": 7,
   "metadata": {},
   "outputs": [
    {
     "name": "stdout",
     "output_type": "stream",
     "text": [
      "[2. 3. 4. 4. 4. 4. 4. 4. 4. 5. 5. 5. 5. 5. 5. 5. 5. 5. 5.]\n",
      "[ 2.  3.  4.  5.  6.  7.  8.  9. 10. 11. 12. 13. 14. 15. 16. 17. 18. 19.\n",
      " 20.]\n"
     ]
    },
    {
     "data": {
      "image/png": "[encoded data removed]",
      "text/plain": [
       "<Figure size 648x216 with 1 Axes>"
      ]
     },
     "metadata": {
      "needs_background": "light"
     },
     "output_type": "display_data"
    }
   ],
   "source": [
    "lambd = 1\n",
    "mu = 5\n",
    "gamma = 0.5\n",
    "n = np.zeros((19,), dtype=float)\n",
    "K = np.linspace(2, 20, 19)\n",
    "N = 5\n",
    "rho = N * lambd / mu\n",
    "p0 = 0\n",
    "pk = 0\n",
    "if(rho == 1.0):\n",
    "    p0 = 1.0 / (K + 1.0)\n",
    "    pk = p0\n",
    "elif(rho > 0):\n",
    "    p0 = ((1.0) - rho) / (1.0 - rho ** (K + 2))\n",
    "    pk = ((1.0) - rho) / (1.0 - rho ** (K + 2)) * rho ** K\n",
    "for i in range(0, 19):\n",
    "    rho = optimal_value(gamma, K[i])\n",
    "    n1 = math.floor(rho * mu / lambd)\n",
    "    n2 = math.ceil(rho * mu / lambd)\n",
    "    C1 = 0\n",
    "    C2 = 0\n",
    "    if((n1 * lambd / mu) != 1.0):\n",
    "        C1 = (1.0 - (n1 * lambd / mu)) * (gamma + (n1 * lambd / mu) ** K[i]) / (1.0 - (n1 * lambd / mu) ** (K[i] + 1.0))\n",
    "    else:\n",
    "        C1 = (gamma + 1.0) / (1.0 + K[i])\n",
    "    if((n2 * lambd / mu) != 1.0):\n",
    "        C2 = (1.0 - (n2 * lambd / mu)) * (gamma + (n2 * lambd / mu) ** K[i]) / (1.0 - (n2 * lambd / mu) ** (K[i] + 1.0))\n",
    "    else:\n",
    "        C2 = (gamma + 1.0) / (1.0 + K[i])\n",
    "    if(C1 < C2):\n",
    "        n[i] = n1\n",
    "    else:\n",
    "        n[i] = n2\n",
    "        \n",
    "print(n)\n",
    "print(K)\n",
    "plt.figure(figsize=(9, 3))\n",
    "plt.plot(K, n)\n",
    "plt.grid(True)\n",
    "plt.show()"
   ]
  },
  {
   "cell_type": "markdown",
   "metadata": {},
   "source": [
    "## N относительно K при gamma = 2"
   ]
  },
  {
   "cell_type": "code",
   "execution_count": 8,
   "metadata": {},
   "outputs": [
    {
     "name": "stdout",
     "output_type": "stream",
     "text": [
      "[14.  8.  7.  7.  6.  6.  6.  6.  6.  6.  6.  5.  5.  5.  5.  5.  5.  5.\n",
      "  5.]\n",
      "[ 2.  3.  4.  5.  6.  7.  8.  9. 10. 11. 12. 13. 14. 15. 16. 17. 18. 19.\n",
      " 20.]\n"
     ]
    },
    {
     "data": {
      "image/png": "[encoded data removed]",
      "text/plain": [
       "<Figure size 648x216 with 1 Axes>"
      ]
     },
     "metadata": {
      "needs_background": "light"
     },
     "output_type": "display_data"
    }
   ],
   "source": [
    "lambd = 1\n",
    "mu = 5\n",
    "gamma = 2\n",
    "n = np.zeros((19,), dtype=float)\n",
    "K = np.linspace(2, 20, 19)\n",
    "N = 5\n",
    "rho = N * lambd / mu\n",
    "p0 = 0\n",
    "pk = 0\n",
    "if(rho == 1.0):\n",
    "    p0 = 1.0 / (K + 1.0)\n",
    "    pk = p0\n",
    "elif(rho > 0):\n",
    "    p0 = ((1.0) - rho) / (1.0 - rho ** (K + 2))\n",
    "    pk = ((1.0) - rho) / (1.0 - rho ** (K + 2)) * rho ** K\n",
    "for i in range(0, 19):\n",
    "    rho = optimal_value(gamma, K[i])\n",
    "    n1 = math.floor(rho * mu / lambd)\n",
    "    n2 = math.ceil(rho * mu / lambd)\n",
    "    C1 = 0\n",
    "    C2 = 0\n",
    "    if((n1 * lambd / mu) != 1.0):\n",
    "        C1 = (1.0 - (n1 * lambd / mu)) * (gamma + (n1 * lambd / mu) ** K[i]) / (1.0 - (n1 * lambd / mu) ** (K[i] + 1.0))\n",
    "    else:\n",
    "        C1 = (gamma + 1.0) / (1.0 + K[i])\n",
    "    if((n2 * lambd / mu) != 1.0):\n",
    "        C2 = (1.0 - (n2 * lambd / mu)) * (gamma + (n2 * lambd / mu) ** K[i]) / (1.0 - (n2 * lambd / mu) ** (K[i] + 1.0))\n",
    "    else:\n",
    "        C2 = (gamma + 1.0) / (1.0 + K[i])\n",
    "    if(C1 < C2):\n",
    "        n[i] = n1\n",
    "    else:\n",
    "        n[i] = n2\n",
    "        \n",
    "print(n)\n",
    "print(K)\n",
    "plt.figure(figsize=(9, 3))\n",
    "plt.plot(K, n)\n",
    "plt.grid(True)\n",
    "plt.show()"
   ]
  },
  {
   "cell_type": "code",
   "execution_count": null,
   "metadata": {},
   "outputs": [
    {
     "name": "stdout",
     "output_type": "stream",
     "text": [
      "Ввод данных:\n",
      "\n"
     ]
    }
   ],
   "source": [
    "print(\"Ввод данных:\\n\")\n",
    "lambd = float(input(\"Введите интенсивность поступления(lambda):\"))\n",
    "mu = float(input(\"Введите интенсивность обслуживания(mu): \"))\n",
    "gamma = float(input(\"Введите gamma: \"))\n",
    "K = int(input(\"Введите вместимость системы(K): \"))\n",
    "N = int(input(\"Введите число источников требований(N): \"))\n",
    "rho = N * lambd / mu\n",
    "p0 = 0\n",
    "pk = 0\n",
    "if(rho == 1.0):\n",
    "    p0 = 1.0 / (K + 1.0)\n",
    "    pk = p0\n",
    "elif(rho > 0):\n",
    "    p0 = ((1.0) - rho) / (1.0 - rho ** (K + 2))\n",
    "    pk = ((1.0) - rho) / (1.0 - rho ** (K + 2)) * rho ** K\n",
    "print(gamma * p0 + pk)\n",
    "for i in range(0, 19):\n",
    "    rho = optimal_value(gamma, K)\n",
    "    n1 = math.floor(rho * mu / lambd)\n",
    "    n2 = math.ceil(rho * mu / lambd)\n",
    "    C1 = 0\n",
    "    C2 = 0\n",
    "    if((n1 * lambd / mu) != 1.0):\n",
    "        C1 = (1.0 - (n1 * lambd / mu)) * (gamma + (n1 * lambd / mu) ** K) / (1.0 - (n1 * lambd / mu) ** (K + 1.0))\n",
    "    else:\n",
    "        C1 = (gamma + 1.0) / (1.0 + K)\n",
    "    if((n2 * lambd / mu) != 1.0):\n",
    "        C2 = (1.0 - (n2 * lambd / mu)) * (gamma + (n2 * lambd / mu) ** K) / (1.0 - (n2 * lambd / mu) ** (K + 1.0))\n",
    "    else:\n",
    "        C2 = (gamma + 1.0) / (1.0 + K)\n",
    "    if(C1 < C2):\n",
    "        n = n1\n",
    "        cc = C1\n",
    "    else:\n",
    "        n = n2\n",
    "        cc = C2\n",
    "print(cc)\n",
    "print(f\"\\nРезультаты работы программы:\\nОптимальное число источников требований(N): {n}\")"
   ]
  },
  {
   "cell_type": "code",
   "execution_count": null,
   "metadata": {},
   "outputs": [],
   "source": []
  }
 ],
 "metadata": {
  "interpreter": {
   "hash": "f6cec773edad2a1b04a461b4735fe1eea3cbbc48c9b944190e77781d33c7b4d3"
  },
  "kernelspec": {
   "display_name": "Python 3",
   "language": "python",
   "name": "python3"
  },
  "language_info": {
   "codemirror_mode": {
    "name": "ipython",
    "version": 3
   },
   "file_extension": ".py",
   "mimetype": "text/x-python",
   "name": "python",
   "nbconvert_exporter": "python",
   "pygments_lexer": "ipython3",
   "version": "3.8.8"
  }
 },
 "nbformat": 4,
 "nbformat_minor": 2
}
