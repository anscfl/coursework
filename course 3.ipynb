{
 "cells": [
  {
   "cell_type": "code",
   "execution_count": 1,
   "id": "12484c08",
   "metadata": {},
   "outputs": [],
   "source": [
    "import numpy as np\n",
    "import math\n",
    "import matplotlib.pyplot as plt"
   ]
  },
  {
   "cell_type": "code",
   "execution_count": 2,
   "id": "40484378",
   "metadata": {},
   "outputs": [],
   "source": [
    "def sum_of_lambd(_lambd, _K):\n",
    "    sum = 0\n",
    "    for i in range(3, _K+1):\n",
    "        sum += _lambd ** i\n",
    "    return sum"
   ]
  },
  {
   "cell_type": "code",
   "execution_count": 3,
   "id": "1555e56b",
   "metadata": {},
   "outputs": [],
   "source": [
    "def cost_func(_rho, _gamma, _sigma, _mu1, _mu2, _p, _K):\n",
    "    a0 = ((_rho / _sigma) ** 2) + (_mu1 + _mu2) * _rho / _sigma + _mu1 * _mu2\n",
    "    a1 = -2 * ((_rho / _sigma) ** 2) - (_mu1 + _mu2) * _rho / _sigma\n",
    "    a2 = (_rho / _sigma) ** 2\n",
    "    b0 = (1 - _p) * _mu1 * (_rho / _sigma) + _mu1 * _mu2\n",
    "    b1 = -((_rho / _sigma) ** 2) - ((2 - _p) * _mu1 + _mu2) * (_rho / _sigma) - _mu1 * _mu2\n",
    "    b2 = 2 * ((_rho / _sigma) ** 2) + (_mu1 + _mu2) * (_rho / _sigma)\n",
    "    b3 = -((_rho / _sigma) ** 2)\n",
    "    alpha2 = a0 / b0\n",
    "    alpha3 = a1 / b0 - a0 * b1 / (b0 ** 2)\n",
    "    alpha4 = a2 / b0 - a1 * b1 / (b0 ** 2) + a0 * (b1 ** 2) / (b0 ** 3) - (a0 * b2) / (b0 ** 2)\n",
    "    lambd1 = (-(b0 + b1) + math.sqrt((b0 + b1)**2 + 4 * b0 * b3)) / (2 * b0)\n",
    "    lambd2 = (-(b0 + b1) - math.sqrt((b0 + b1)**2 + 4 * b0 * b3)) / (2 * b0)\n",
    "    d1 = (lambd2 * (alpha3 - alpha2) - (alpha4 - alpha3)) / ((lambd1 ** 3) * (lambd2 - lambd1))\n",
    "    d2 = (alpha4 - alpha3 - lambd1 * (alpha3 - alpha2)) / ((lambd2 ** 3) * (lambd2 - lambd1))\n",
    "    alpha_K = alpha2 + d1 * sum_of_lambd(lambd1, _K) + d2 * sum_of_lambd(lambd2, _K)\n",
    "    return 1 + ((_gamma - alpha_K) / (1 + _rho * alpha_K))"
   ]
  },
  {
   "cell_type": "code",
   "execution_count": 4,
   "id": "144aa0c3",
   "metadata": {},
   "outputs": [],
   "source": [
    "def bisection(_a, _b, gamma_, mu1_, mu2_, p_, K_, sigma_):\n",
    "    eps = 0.001\n",
    "    while(abs(_b - _a) > eps):\n",
    "        x = (_a + _b) / 2\n",
    "        C1 = cost_func(x - eps, gamma_, sigma_, mu1_, mu2_, p_, K_)\n",
    "        C2 = cost_func(x + eps, gamma_, sigma_, mu1_, mu2_, p_, K_)\n",
    "        if (C1 < C2):\n",
    "            _b = x\n",
    "        else:\n",
    "            _a = x\n",
    "    return x"
   ]
  },
  {
   "cell_type": "markdown",
   "id": "c16512c0",
   "metadata": {},
   "source": [
    "# Метод анализа"
   ]
  },
  {
   "cell_type": "code",
   "execution_count": 5,
   "id": "5833aa02",
   "metadata": {},
   "outputs": [
    {
     "name": "stdout",
     "output_type": "stream",
     "text": [
      "rho[ 0 ] =  0.2\n",
      "C[ 0 ] =  1.6000000000051857\n",
      "rho[ 1 ] =  0.29285714285714287\n",
      "C[ 1 ] =  1.4142857163135958\n",
      "rho[ 2 ] =  0.38571428571428573\n",
      "C[ 2 ] =  1.228571584511018\n",
      "rho[ 3 ] =  0.4785714285714286\n",
      "C[ 3 ] =  1.0428618489757406\n",
      "rho[ 4 ] =  0.5714285714285714\n",
      "C[ 4 ] =  0.8572190957585877\n",
      "rho[ 5 ] =  0.6642857142857144\n",
      "C[ 5 ] =  0.6722070866939694\n",
      "rho[ 6 ] =  0.7571428571428571\n",
      "C[ 6 ] =  0.49114387857153363\n",
      "rho[ 7 ] =  0.8500000000000001\n",
      "C[ 7 ] =  0.3265826836770539\n",
      "rho[ 8 ] =  0.9428571428571428\n",
      "C[ 8 ] =  0.20562905141411802\n",
      "rho[ 9 ] =  1.0357142857142858\n",
      "C[ 9 ] =  0.1524031989164032\n",
      "rho[ 10 ] =  1.1285714285714286\n",
      "C[ 10 ] =  0.1592126394083342\n",
      "rho[ 11 ] =  1.2214285714285713\n",
      "C[ 11 ] =  0.19737611925627263\n",
      "rho[ 12 ] =  1.3142857142857143\n",
      "C[ 12 ] =  0.24471352915236777\n",
      "rho[ 13 ] =  1.4071428571428573\n",
      "C[ 13 ] =  0.2912948216157534\n",
      "rho[ 14 ] =  1.5\n",
      "C[ 14 ] =  0.33403509745541227\n"
     ]
    },
    {
     "data": {
      "image/png": "[encoded data removed]",
      "text/plain": [
       "<Figure size 576x432 with 1 Axes>"
      ]
     },
     "metadata": {
      "needs_background": "light"
     },
     "output_type": "display_data"
    }
   ],
   "source": [
    "mu1 = 0.5\n",
    "mu2 = 0.1\n",
    "p = 1\n",
    "gamma = 2\n",
    "K = 15\n",
    "sigma = 1 / mu1 + p / mu2\n",
    "rho = np.linspace(0.2, 1.5, 15)\n",
    "C = np.zeros(15)\n",
    "for i in range(0, 15):\n",
    "    C[i] = cost_func(rho[i], gamma, sigma, mu1, mu2, p, K)\n",
    "    print(\"rho[\", i, \"] = \",  rho[i])\n",
    "    print(\"C[\", i, \"] = \",  C[i])\n",
    "plt.figure(figsize=(8, 6))\n",
    "plt.plot(rho, C)\n",
    "plt.grid(True)\n",
    "#plt.xlabel('rho')\n",
    "#plt.ylabel('C (rho,gamma,K)')\n",
    "plt.show()"
   ]
  },
  {
   "cell_type": "markdown",
   "id": "9e062469",
   "metadata": {},
   "source": [
    "# Метод оптимизации"
   ]
  },
  {
   "cell_type": "code",
   "execution_count": 7,
   "id": "6da3b3f0",
   "metadata": {},
   "outputs": [
    {
     "ename": "IndexError",
     "evalue": "index 15 is out of bounds for axis 0 with size 15",
     "output_type": "error",
     "traceback": [
      "\u001b[1;31m---------------------------------------------------------------------------\u001b[0m",
      "\u001b[1;31mIndexError\u001b[0m                                Traceback (most recent call last)",
      "\u001b[1;32m<ipython-input-7-0cef816f174a>\u001b[0m in \u001b[0;36m<module>\u001b[1;34m\u001b[0m\n\u001b[0;32m      7\u001b[0m \u001b[1;32mfor\u001b[0m \u001b[0mi\u001b[0m \u001b[1;32min\u001b[0m \u001b[0mrange\u001b[0m\u001b[1;33m(\u001b[0m\u001b[1;36m0\u001b[0m\u001b[1;33m,\u001b[0m \u001b[1;36m99\u001b[0m\u001b[1;33m)\u001b[0m\u001b[1;33m:\u001b[0m\u001b[1;33m\u001b[0m\u001b[1;33m\u001b[0m\u001b[0m\n\u001b[0;32m      8\u001b[0m     \u001b[0mrho\u001b[0m\u001b[1;33m[\u001b[0m\u001b[0mi\u001b[0m\u001b[1;33m]\u001b[0m \u001b[1;33m=\u001b[0m \u001b[0mbisection\u001b[0m\u001b[1;33m(\u001b[0m\u001b[1;36m0\u001b[0m\u001b[1;33m,\u001b[0m \u001b[1;36m10\u001b[0m\u001b[1;33m,\u001b[0m \u001b[0mgamma\u001b[0m\u001b[1;33m,\u001b[0m \u001b[0mmu1\u001b[0m\u001b[1;33m,\u001b[0m \u001b[0mmu2\u001b[0m\u001b[1;33m,\u001b[0m \u001b[0mp\u001b[0m\u001b[1;33m,\u001b[0m \u001b[0mK\u001b[0m\u001b[1;33m[\u001b[0m\u001b[0mi\u001b[0m\u001b[1;33m]\u001b[0m\u001b[1;33m,\u001b[0m \u001b[0msigma\u001b[0m\u001b[1;33m)\u001b[0m\u001b[1;33m\u001b[0m\u001b[1;33m\u001b[0m\u001b[0m\n\u001b[1;32m----> 9\u001b[1;33m     \u001b[0mC\u001b[0m\u001b[1;33m[\u001b[0m\u001b[0mi\u001b[0m\u001b[1;33m]\u001b[0m \u001b[1;33m=\u001b[0m \u001b[0mcost_func\u001b[0m\u001b[1;33m(\u001b[0m\u001b[0mrho\u001b[0m\u001b[1;33m[\u001b[0m\u001b[0mi\u001b[0m\u001b[1;33m]\u001b[0m\u001b[1;33m,\u001b[0m \u001b[0mgamma\u001b[0m\u001b[1;33m,\u001b[0m \u001b[0msigma\u001b[0m\u001b[1;33m,\u001b[0m \u001b[0mmu1\u001b[0m\u001b[1;33m,\u001b[0m \u001b[0mmu2\u001b[0m\u001b[1;33m,\u001b[0m \u001b[0mp\u001b[0m\u001b[1;33m,\u001b[0m \u001b[0mK\u001b[0m\u001b[1;33m[\u001b[0m\u001b[0mi\u001b[0m\u001b[1;33m]\u001b[0m\u001b[1;33m)\u001b[0m\u001b[1;33m\u001b[0m\u001b[1;33m\u001b[0m\u001b[0m\n\u001b[0m\u001b[0;32m     10\u001b[0m \u001b[0mprint\u001b[0m\u001b[1;33m(\u001b[0m\u001b[0mK\u001b[0m\u001b[1;33m)\u001b[0m\u001b[1;33m\u001b[0m\u001b[1;33m\u001b[0m\u001b[0m\n\u001b[0;32m     11\u001b[0m \u001b[0mprint\u001b[0m\u001b[1;33m(\u001b[0m\u001b[0mrho\u001b[0m\u001b[1;33m)\u001b[0m\u001b[1;33m\u001b[0m\u001b[1;33m\u001b[0m\u001b[0m\n",
      "\u001b[1;31mIndexError\u001b[0m: index 15 is out of bounds for axis 0 with size 15"
     ]
    }
   ],
   "source": [
    "#mu1 = 5\n",
    "p = 1\n",
    "gamma = 0.5\n",
    "K = 5#np.linspace(2, 100, 99, dtype=int)\n",
    "sigma = 1 / mu1 + p / mu2\n",
    "rho = np.zeros(99)\n",
    "C = np.zeros(99)\n",
    "for i in range(0, 99):\n",
    "    rho[i] = bisection(0, 10, gamma, mu1, mu2, p, K[i], sigma)\n",
    "    C[i] = cost_func(rho[i], gamma, sigma, mu1, mu2, p, K[i])\n",
    "print(K)\n",
    "print(rho)\n",
    "plt.figure(figsize=(9, 3))\n",
    "plt.plot(K, rho)\n",
    "plt.grid(True)\n",
    "plt.xlabel('K')\n",
    "plt.ylabel('rho')\n",
    "plt.show()"
   ]
  },
  {
   "cell_type": "code",
   "execution_count": null,
   "id": "cfbe8556",
   "metadata": {},
   "outputs": [],
   "source": []
  }
 ],
 "metadata": {
  "kernelspec": {
   "display_name": "Python 3",
   "language": "python",
   "name": "python3"
  },
  "language_info": {
   "codemirror_mode": {
    "name": "ipython",
    "version": 3
   },
   "file_extension": ".py",
   "mimetype": "text/x-python",
   "name": "python",
   "nbconvert_exporter": "python",
   "pygments_lexer": "ipython3",
   "version": "3.8.8"
  }
 },
 "nbformat": 4,
 "nbformat_minor": 5
}
